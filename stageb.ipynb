{
 "cells": [
  {
   "cell_type": "code",
   "execution_count": 285,
   "id": "7b392a82-aac0-459f-a05e-09b1b63b204c",
   "metadata": {},
   "outputs": [],
   "source": [
    "import pandas as pd\n",
    "import numpy as np \n",
    "import matplotlib.pyplot as plt\n",
    "import seaborn as sns\n",
    "\n",
    "df = pd.read_csv('energydata_complete.csv')"
   ]
  },
  {
   "cell_type": "code",
   "execution_count": 286,
   "id": "c63aecce-a8b8-452f-9dc8-b161b9a08a55",
   "metadata": {},
   "outputs": [],
   "source": [
    "a =   df['T2'].reset_index()\n",
    "b = df['T6'].reset_index()\n",
    "merge = pd.merge(a, b)"
   ]
  },
  {
   "cell_type": "code",
   "execution_count": 287,
   "id": "1bd17f75-dcdd-4597-be24-fbf4f862ef64",
   "metadata": {},
   "outputs": [
    {
     "name": "stdout",
     "output_type": "stream",
     "text": [
      "R2 Score is:  0.6385443715749319\n"
     ]
    }
   ],
   "source": [
    "# Q12\n",
    "# From the dataset, fit a linear model on the relationship between the temperature in the living room in Celsius (x = T2) \n",
    "# and the temperature outside the building (y = T6).\n",
    "# What is the R^2 value in two d.p.?\n",
    "\n",
    "from sklearn.linear_model import LinearRegression\n",
    "from sklearn.metrics import r2_score\n",
    "from sklearn.model_selection import train_test_split\n",
    "\n",
    "x = merge['T2']\n",
    "y = merge['T6'] \n",
    "\n",
    "x = x.to_numpy()\n",
    "x = x.reshape(-1, 1)\n",
    "\n",
    "\n",
    "\n",
    "x_train, x_test, y_train, y_test = train_test_split(x, y, test_size=0.2, random_state=42)\n",
    "\n",
    "model = LinearRegression()\n",
    "\n",
    "model.fit(x_train, y_train)\n",
    "y_pred = model.predict(x_test)\n",
    "r2 = r2_score( y_test,y_pred )\n",
    "print('R2 Score is: ', r2)"
   ]
  },
  {
   "cell_type": "code",
   "execution_count": 288,
   "id": "de69c8ef",
   "metadata": {},
   "outputs": [
    {
     "data": {
      "image/png": "[encoded data removed]",
      "text/plain": [
       "<Figure size 432x288 with 1 Axes>"
      ]
     },
     "metadata": {
      "needs_background": "light"
     },
     "output_type": "display_data"
    }
   ],
   "source": [
    "plt.scatter(x, y, color = 'red')\n",
    "plt.plot(x,model.predict(x) , color = 'blue')\n",
    "plt.title('Linear Regression')\n",
    "plt.xlabel('X')\n",
    "plt.xlabel('Y')\n",
    "plt.show()"
   ]
  },
  {
   "cell_type": "code",
   "execution_count": 289,
   "id": "b2821fda-1351-441d-a924-0e17f01c15dc",
   "metadata": {},
   "outputs": [
    {
     "name": "stdout",
     "output_type": "stream",
     "text": [
      "Mean Abolute Error:  0.05\n",
      "Residual Sum of Squares:  0    45.34\n",
      "dtype: float64\n",
      "Root Mean Squared Error:  0.088\n",
      "Coefficient of Determinaton:  0.15\n"
     ]
    }
   ],
   "source": [
    "# Q13, Q14, Q15, Q16\n",
    "\n",
    "# Normalize the dataset using the MinMaxScaler after removing the following columns: [“date”, “lights”].\n",
    "# The target variable is “Appliances”.\n",
    "# Use a 70-30 train-test set split with a random state of 42 (for reproducibility). \n",
    "# Run a multiple linear regression using the training set \n",
    "# and evaluate your model on the test set. Answer the following questions:\n",
    "\n",
    "# What is the Mean Absolute Error (in two decimal places)?\n",
    "columns = ['date', 'lights']\n",
    "df.drop(columns = columns, axis = 1, inplace = True)\n",
    "\n",
    "from sklearn.preprocessing import MinMaxScaler\n",
    "from sklearn.model_selection import train_test_split\n",
    "from sklearn.metrics import mean_absolute_error, mean_squared_error, r2_score\n",
    "\n",
    "\n",
    "scaler = MinMaxScaler()\n",
    "features_df = df.drop(columns=['Appliances'])\n",
    "target_df = df['Appliances'].to_numpy()\n",
    "target_df = target_df.reshape(-1,1)\n",
    "\n",
    "\n",
    "n_features = pd.DataFrame(scaler.fit_transform(features_df))\n",
    "n_target = pd.DataFrame(scaler.fit_transform(target_df))\n",
    "\n",
    "\n",
    "x_train_1, x_test_1, y_train_1, y_test_1 = train_test_split(n_features,n_target, test_size=0.3, random_state=42)\n",
    "\n",
    "linear_model = LinearRegression()\n",
    "linear_model.fit(x_train_1,y_train_1)\n",
    "\n",
    "\n",
    "pred = linear_model.predict(x_test_1)\n",
    "\n",
    "mae = mean_absolute_error(y_test_1, pred)\n",
    "rss = np.sum(np.square(y_test_1 - pred))\n",
    "rmse = np.sqrt(mean_squared_error(y_test_1, pred))\n",
    "r2 = r2_score(y_test_1, pred)\n",
    "\n",
    "print('Mean Abolute Error: ', round(mae, 2))\n",
    "print('Residual Sum of Squares: ', round(rss, 2))\n",
    "print('Root Mean Squared Error: ', round(rmse, 3))\n",
    "print('Coefficient of Determinaton: ', round(r2, 2))\n"
   ]
  },
  {
   "cell_type": "code",
   "execution_count": 290,
   "id": "579244c9",
   "metadata": {},
   "outputs": [],
   "source": [
    "# Helper function to calculate the weights \n",
    "\n",
    "def get_weights_df(model, feat, col_name):\n",
    "#this function returns the weight of every feature\n",
    "    weights = pd.Series(model.coef_, feat.columns).sort_values()\n",
    "    weights_df = pd.DataFrame(weights).reset_index()\n",
    "    weights_df.columns = ['Features', col_name]\n",
    "    weights_df[col_name].round(3)\n",
    "    return weights_df"
   ]
  },
  {
   "cell_type": "code",
   "execution_count": 291,
   "id": "8fc8d6e0",
   "metadata": {},
   "outputs": [
    {
     "name": "stdout",
     "output_type": "stream",
     "text": [
      "The lowest weight is: rv2\n",
      "The highest weight is: rv1\n"
     ]
    }
   ],
   "source": [
    "# Q17\n",
    "# Obtain the feature weights from your linear model above. \n",
    "# Which features have the lowest and highest weights respectively?\n",
    "def get_linear_model_weights_df(linear_model, feat, col_name):\n",
    "#this function returns the weight of every feature\n",
    "    weights = pd.Series(linear_model.coef_.T.reshape(26,), feat.columns).sort_values()\n",
    "    weights_df = pd.DataFrame(weights).reset_index()\n",
    "    weights_df.columns = ['Features', col_name]\n",
    "    weights_df[col_name].round(3)\n",
    "    return weights_df\n",
    "\n",
    "linear_model_weight = get_linear_model_weights_df(linear_model, features_df, 'Linear_Model_Weight')\n",
    "# print(linear_model_weight)\n",
    "linear_model_weight.min(), linear_model_weight.max()\n",
    "print('The lowest weight is: rv2')\n",
    "print('The highest weight is: rv1', )\n",
    "\n"
   ]
  },
  {
   "cell_type": "code",
   "execution_count": 292,
   "id": "775063e2",
   "metadata": {},
   "outputs": [
    {
     "name": "stdout",
     "output_type": "stream",
     "text": [
      "Root Mean Squared Error:  0.088\n",
      "NO!, THERE IS NO CHANGE IN THE RMSE COMPARED TO THE PREVIOUS\n"
     ]
    }
   ],
   "source": [
    "# Q18\n",
    "# Train a ridge regression model with an alpha value of 0.4. \n",
    "# Is there any change to the root mean squared error (RMSE) when evaluated on the test set?\n",
    "\n",
    "from sklearn.linear_model import Ridge\n",
    "\n",
    "ridge_model = Ridge(alpha = 0.4)\n",
    "ridge_model.fit(x_train_1, y_train_1)\n",
    "ridge_pred = ridge_model.predict(x_test_1)\n",
    "\n",
    "ridge_rmse = np.sqrt(mean_squared_error(y_test_1, ridge_pred))\n",
    "print('Root Mean Squared Error: ', round(ridge_rmse, 3))\n",
    "\n",
    "print('NO!, THERE IS NO CHANGE IN THE RMSE COMPARED TO THE PREVIOUS')"
   ]
  },
  {
   "cell_type": "code",
   "execution_count": 293,
   "id": "63e4dc82",
   "metadata": {},
   "outputs": [
    {
     "name": "stdout",
     "output_type": "stream",
     "text": [
      "FOUR (4) FEATURES HAVE NON-ZERO FEATURE WEIGHTS\n",
      "Root Mean Squared Error:  0.094\n"
     ]
    }
   ],
   "source": [
    "# Q19 , Q20 \n",
    "# Train a lasso regression model with an alpha value of 0.001 and obtain the new feature weights with it.\n",
    "#  How many of the features have non-zero feature weights?\n",
    "# What is the new RMSE with the lasso regression? (Answer should be in three (3) decimal places)\n",
    "\n",
    "from sklearn.linear_model import Lasso \n",
    "\n",
    "lasso_model = Lasso(alpha = 0.001)\n",
    "lasso_model.fit(x_train_1, y_train_1)\n",
    "lasso_pred = lasso_model.predict(x_test_1)\n",
    "\n",
    "lasso_model_weight = get_weights_df(lasso_model, features_df, 'Lasso_Model_Weight')\n",
    "# print(lasso_model_weight)\n",
    "print('FOUR (4) FEATURES HAVE NON-ZERO FEATURE WEIGHTS')\n",
    "\n",
    "lasso_rmse = np.sqrt(mean_squared_error(y_test_1, lasso_pred))\n",
    "print('Root Mean Squared Error: ', round(lasso_rmse, 3))\n",
    "\n",
    "\n"
   ]
  }
 ],
 "metadata": {
  "kernelspec": {
   "display_name": "Python 3.10.5 64-bit",
   "language": "python",
   "name": "python3"
  },
  "language_info": {
   "codemirror_mode": {
    "name": "ipython",
    "version": 3
   },
   "file_extension": ".py",
   "mimetype": "text/x-python",
   "name": "python",
   "nbconvert_exporter": "python",
   "pygments_lexer": "ipython3",
   "version": "3.10.5"
  },
  "vscode": {
   "interpreter": {
    "hash": "3369b3a75f9b9f773b7395262b1c35dbdb20bc837bfadc97feb5ad4b64f8b5a0"
   }
  }
 },
 "nbformat": 4,
 "nbformat_minor": 5
}
